{
 "cells": [
  {
   "cell_type": "code",
   "execution_count": 1,
   "metadata": {
    "id": "VsHbsDrPZvZH",
    "outputId": "6030694c-104c-40f3-9492-5ec9a66c9a68"
   },
   "outputs": [
    {
     "data": {
      "text/plain": [
       "3"
      ]
     },
     "execution_count": 1,
     "metadata": {},
     "output_type": "execute_result"
    }
   ],
   "source": [
    "1+2"
   ]
  },
  {
   "cell_type": "code",
   "execution_count": 2,
   "metadata": {
    "id": "_gj7KE9uZvZM",
    "outputId": "cfa4a267-d4d7-42d7-ca06-7e44c9563733"
   },
   "outputs": [
    {
     "data": {
      "text/plain": [
       "2"
      ]
     },
     "execution_count": 2,
     "metadata": {},
     "output_type": "execute_result"
    }
   ],
   "source": [
    "5-3"
   ]
  },
  {
   "cell_type": "code",
   "execution_count": 3,
   "metadata": {
    "id": "VGLRnQQ5ZvZN",
    "outputId": "62d8dcf1-e1df-4915-8214-e4c0683f1e7f"
   },
   "outputs": [
    {
     "data": {
      "text/plain": [
       "28"
      ]
     },
     "execution_count": 3,
     "metadata": {},
     "output_type": "execute_result"
    }
   ],
   "source": [
    "7*4"
   ]
  },
  {
   "cell_type": "code",
   "execution_count": 4,
   "metadata": {
    "id": "p3LmHSTqZvZO",
    "outputId": "403c4de0-13a8-47d7-e35d-fed737fcff87"
   },
   "outputs": [
    {
     "name": "stdout",
     "output_type": "stream",
     "text": [
      "28\n"
     ]
    }
   ],
   "source": [
    "print(7*4)"
   ]
  },
  {
   "cell_type": "code",
   "execution_count": 5,
   "metadata": {
    "id": "rabramElZvZO",
    "outputId": "b42852f4-8b79-4742-c679-0ad32f92152a"
   },
   "outputs": [
    {
     "data": {
      "text/plain": [
       "19"
      ]
     },
     "execution_count": 5,
     "metadata": {},
     "output_type": "execute_result"
    }
   ],
   "source": [
    "abs(-19)"
   ]
  },
  {
   "cell_type": "code",
   "execution_count": 6,
   "metadata": {
    "id": "QbBvULVAZvZQ",
    "outputId": "66257d45-990e-4906-a91c-80428cbd392b"
   },
   "outputs": [
    {
     "data": {
      "text/plain": [
       "2"
      ]
     },
     "execution_count": 6,
     "metadata": {},
     "output_type": "execute_result"
    }
   ],
   "source": [
    "round(2.48)"
   ]
  },
  {
   "cell_type": "code",
   "execution_count": 7,
   "metadata": {
    "id": "LOjpKjpBZvZQ",
    "outputId": "e222ce5d-26b9-411e-8916-10a5dabbe578"
   },
   "outputs": [
    {
     "data": {
      "text/plain": [
       "2.48"
      ]
     },
     "execution_count": 7,
     "metadata": {},
     "output_type": "execute_result"
    }
   ],
   "source": [
    "round(2.485, 2)"
   ]
  },
  {
   "cell_type": "code",
   "execution_count": 8,
   "metadata": {
    "id": "-F5WyHXDZvZR",
    "outputId": "79e8c70f-675c-41d3-e44b-2445ed86924f"
   },
   "outputs": [
    {
     "name": "stdout",
     "output_type": "stream",
     "text": [
      "Enter your namebipin\n",
      "bipin\n"
     ]
    }
   ],
   "source": [
    "# input function\n",
    "\n",
    "name=input(\"Enter your name\")\n",
    "print(name)"
   ]
  },
  {
   "cell_type": "code",
   "execution_count": 9,
   "metadata": {
    "id": "oKB0sFiKZvZS",
    "outputId": "8b7435cb-aea3-4d81-9b03-28094be5e0dc"
   },
   "outputs": [
    {
     "name": "stdout",
     "output_type": "stream",
     "text": [
      "Enter 1st number3\n",
      "Enter 2nd number2\n",
      "32\n"
     ]
    }
   ],
   "source": [
    "a=input(\"Enter 1st number\")\n",
    "b=input(\"Enter 2nd number\")\n",
    "c=a+b\n",
    "print(c)"
   ]
  },
  {
   "cell_type": "code",
   "execution_count": 10,
   "metadata": {
    "id": "ofT6T1MPZvZT",
    "outputId": "72fee173-1d7e-4662-dad6-d8310f5910f4"
   },
   "outputs": [
    {
     "data": {
      "text/plain": [
       "str"
      ]
     },
     "execution_count": 10,
     "metadata": {},
     "output_type": "execute_result"
    }
   ],
   "source": [
    "type(b)"
   ]
  },
  {
   "cell_type": "code",
   "execution_count": 11,
   "metadata": {
    "id": "fSrykEL8ZvZT",
    "outputId": "97f6d44a-32cc-4ce6-e2a4-35a940a929c9"
   },
   "outputs": [
    {
     "name": "stdout",
     "output_type": "stream",
     "text": [
      "Enter 1st number2\n",
      "Enter 2nd number6\n",
      "8\n"
     ]
    }
   ],
   "source": [
    "a=int(input(\"Enter 1st number\"))\n",
    "b=int(input(\"Enter 2nd number\"))\n",
    "c=a+b\n",
    "print(c)"
   ]
  },
  {
   "cell_type": "code",
   "execution_count": 12,
   "metadata": {
    "id": "fRh5KsxbZvZT",
    "outputId": "93098088-d9a4-41d3-c491-03deb5b919c0"
   },
   "outputs": [
    {
     "data": {
      "text/plain": [
       "int"
      ]
     },
     "execution_count": 12,
     "metadata": {},
     "output_type": "execute_result"
    }
   ],
   "source": [
    "type(b)"
   ]
  },
  {
   "cell_type": "markdown",
   "metadata": {
    "id": "0P1vho3_ZvZT"
   },
   "source": [
    "# Datatypes in Python"
   ]
  },
  {
   "cell_type": "markdown",
   "metadata": {
    "id": "uCvs3FBFZvZV"
   },
   "source": [
    "## Numerics types: int, float, complex"
   ]
  },
  {
   "cell_type": "code",
   "execution_count": 13,
   "metadata": {
    "colab": {
     "base_uri": "https://localhost:8080/"
    },
    "id": "r3DgQPzZZvZV",
    "outputId": "227788ad-7dd1-4289-9046-6f3e35f07796"
   },
   "outputs": [
    {
     "name": "stdout",
     "output_type": "stream",
     "text": [
      "5\n"
     ]
    },
    {
     "data": {
      "text/plain": [
       "int"
      ]
     },
     "execution_count": 13,
     "metadata": {},
     "output_type": "execute_result"
    }
   ],
   "source": [
    "x = 5\n",
    "print(x)\n",
    "type(x)"
   ]
  },
  {
   "cell_type": "code",
   "execution_count": 14,
   "metadata": {
    "colab": {
     "base_uri": "https://localhost:8080/"
    },
    "id": "Is_7nqAtZvZV",
    "outputId": "0776554e-0b96-4acf-934f-83e1deee9159"
   },
   "outputs": [
    {
     "name": "stdout",
     "output_type": "stream",
     "text": [
      "1.5\n"
     ]
    },
    {
     "data": {
      "text/plain": [
       "float"
      ]
     },
     "execution_count": 14,
     "metadata": {},
     "output_type": "execute_result"
    }
   ],
   "source": [
    "x = 1.5\n",
    "print(x)\n",
    "type(x)"
   ]
  },
  {
   "cell_type": "code",
   "execution_count": 15,
   "metadata": {
    "colab": {
     "base_uri": "https://localhost:8080/"
    },
    "id": "B4_NXOCOZvZW",
    "outputId": "7d1dc03d-b471-4ba8-db19-74b29751ebc0"
   },
   "outputs": [
    {
     "name": "stdout",
     "output_type": "stream",
     "text": [
      "2\n",
      "(1+2j)\n",
      "<class 'int'>\n",
      "<class 'complex'>\n"
     ]
    }
   ],
   "source": [
    "x = 2\n",
    "y= 1+2j\n",
    "print(x)\n",
    "print(y)\n",
    "print(type(x))\n",
    "print(type(y))"
   ]
  },
  {
   "cell_type": "markdown",
   "metadata": {
    "id": "a3gnW42YZvZW"
   },
   "source": [
    "## Boolean type: bool"
   ]
  },
  {
   "cell_type": "code",
   "execution_count": 16,
   "metadata": {
    "colab": {
     "base_uri": "https://localhost:8080/"
    },
    "id": "IR5iQADUZvZW",
    "outputId": "bffee8f1-cdab-4057-cacd-246e3bc50631"
   },
   "outputs": [
    {
     "name": "stdout",
     "output_type": "stream",
     "text": [
      "True\n",
      "<class 'bool'>\n"
     ]
    }
   ],
   "source": [
    "d = True\n",
    "print(d)\n",
    "print(type(d))"
   ]
  },
  {
   "cell_type": "markdown",
   "metadata": {
    "id": "-RSK1EBb9MAV"
   },
   "source": [
    "## Character type"
   ]
  },
  {
   "cell_type": "code",
   "execution_count": 17,
   "metadata": {
    "id": "fcZfEFOOZvZW",
    "outputId": "8d2ff509-4f52-4f03-fd0f-5fd55e097af4"
   },
   "outputs": [
    {
     "name": "stdout",
     "output_type": "stream",
     "text": [
      "hello...\n",
      "<class 'str'>\n"
     ]
    }
   ],
   "source": [
    "a='hello...'\n",
    "print(a)\n",
    "print(type(a))"
   ]
  },
  {
   "cell_type": "code",
   "execution_count": 18,
   "metadata": {
    "id": "S8Nt6_7MZvZX",
    "outputId": "38a1baac-eb01-4ee0-fc86-c1cc20f69ffc"
   },
   "outputs": [
    {
     "name": "stdout",
     "output_type": "stream",
     "text": [
      "c\n",
      "<class 'str'>\n"
     ]
    }
   ],
   "source": [
    "str1='c'\n",
    "print(str1)\n",
    "print(type(str1))"
   ]
  },
  {
   "cell_type": "code",
   "execution_count": 19,
   "metadata": {
    "colab": {
     "base_uri": "https://localhost:8080/"
    },
    "id": "hOv7YHjPZvZX",
    "outputId": "9d10ae59-f8d0-4b8c-a333-31f73ed5884f"
   },
   "outputs": [
    {
     "name": "stdout",
     "output_type": "stream",
     "text": [
      "Hello world\n"
     ]
    }
   ],
   "source": [
    "str2=('Hello world')\n",
    "print(str2)"
   ]
  },
  {
   "cell_type": "code",
   "execution_count": 20,
   "metadata": {
    "colab": {
     "base_uri": "https://localhost:8080/"
    },
    "id": "IpyzPcfxZvZX",
    "outputId": "7b08b30e-4cff-4cf3-8e1c-5b42b020775c"
   },
   "outputs": [
    {
     "data": {
      "text/plain": [
       "8"
      ]
     },
     "execution_count": 20,
     "metadata": {},
     "output_type": "execute_result"
    }
   ],
   "source": [
    "# index of letter in string. eg: index of letter l in HelloWorld\n",
    "str2.index('r')"
   ]
  },
  {
   "cell_type": "code",
   "execution_count": 21,
   "metadata": {
    "colab": {
     "base_uri": "https://localhost:8080/",
     "height": 36
    },
    "id": "_7EiwoPIZvZX",
    "outputId": "3e7b1ffc-adac-41cc-d257-2debf674ac06"
   },
   "outputs": [
    {
     "data": {
      "text/plain": [
       "'o'"
      ]
     },
     "execution_count": 21,
     "metadata": {},
     "output_type": "execute_result"
    }
   ],
   "source": [
    "str2[7]"
   ]
  },
  {
   "cell_type": "code",
   "execution_count": 22,
   "metadata": {
    "colab": {
     "base_uri": "https://localhost:8080/",
     "height": 35
    },
    "id": "E5Pi8u0oZvZX",
    "outputId": "a15284a8-5323-4f5d-c691-4647f6bed1d3"
   },
   "outputs": [
    {
     "data": {
      "text/plain": [
       "'l'"
      ]
     },
     "execution_count": 22,
     "metadata": {},
     "output_type": "execute_result"
    }
   ],
   "source": [
    "str2[-2]"
   ]
  },
  {
   "cell_type": "code",
   "execution_count": 23,
   "metadata": {
    "colab": {
     "base_uri": "https://localhost:8080/",
     "height": 36
    },
    "id": "9hVNIimMZvZY",
    "outputId": "4a084ea2-5eaf-49fc-9da1-48e5479325b4"
   },
   "outputs": [
    {
     "data": {
      "text/plain": [
       "'llo w'"
      ]
     },
     "execution_count": 23,
     "metadata": {},
     "output_type": "execute_result"
    }
   ],
   "source": [
    "str2[2:7]"
   ]
  },
  {
   "cell_type": "code",
   "execution_count": 24,
   "metadata": {
    "id": "mot5sTBzZvZY",
    "outputId": "a5720d53-1a09-4d67-aba8-b6f8e8772ad3"
   },
   "outputs": [
    {
     "data": {
      "text/plain": [
       "' wor'"
      ]
     },
     "execution_count": 24,
     "metadata": {},
     "output_type": "execute_result"
    }
   ],
   "source": [
    "str2[-6:-2]"
   ]
  },
  {
   "cell_type": "code",
   "execution_count": 25,
   "metadata": {},
   "outputs": [
    {
     "name": "stdout",
     "output_type": "stream",
     "text": [
      "my name is bipin\n"
     ]
    }
   ],
   "source": [
    "print('my name is bipin')"
   ]
  },
  {
   "cell_type": "code",
   "execution_count": 26,
   "metadata": {
    "colab": {
     "base_uri": "https://localhost:8080/"
    },
    "id": "IfkF3yM1ZvZY",
    "outputId": "0d6f848d-595c-4f18-c848-39f6fa13a908"
   },
   "outputs": [
    {
     "name": "stdout",
     "output_type": "stream",
     "text": [
      "my age is 2\n"
     ]
    }
   ],
   "source": [
    "x=2\n",
    "print(f'my age is {x}')"
   ]
  },
  {
   "cell_type": "code",
   "execution_count": 27,
   "metadata": {
    "id": "3XfSxZljZvZY",
    "outputId": "bd586a6f-33c1-4c72-b0ec-2c3641a19b28"
   },
   "outputs": [
    {
     "name": "stdout",
     "output_type": "stream",
     "text": [
      "HelloWorld\n"
     ]
    }
   ],
   "source": [
    "x = \"Hello\"  #concatenation\n",
    "y = \"World\"\n",
    "z = x + y\n",
    "print(z)"
   ]
  },
  {
   "cell_type": "markdown",
   "metadata": {
    "id": "Qt4IMneGZvZY"
   },
   "source": [
    "### sequence type\n",
    "* list\n",
    "* tuple\n",
    "* dictionalry"
   ]
  },
  {
   "cell_type": "markdown",
   "metadata": {
    "id": "gByug-xtZvZZ"
   },
   "source": [
    "### List:  \n",
    "* Ordered, Mutable and allow duplicates\n",
    "* Collection of heterogeneous data types"
   ]
  },
  {
   "cell_type": "code",
   "execution_count": 28,
   "metadata": {
    "id": "EkeN8X9fZvZZ"
   },
   "outputs": [],
   "source": [
    "listExample = [\"apple\", \"banana\", \"cherry\", 2]"
   ]
  },
  {
   "cell_type": "code",
   "execution_count": 29,
   "metadata": {
    "colab": {
     "base_uri": "https://localhost:8080/"
    },
    "id": "yX_GFuWq4xdt",
    "outputId": "7205fee7-1660-4b40-f86b-10869cfbe30f"
   },
   "outputs": [
    {
     "data": {
      "text/plain": [
       "['apple', 'banana', 'cherry', 2]"
      ]
     },
     "execution_count": 29,
     "metadata": {},
     "output_type": "execute_result"
    }
   ],
   "source": [
    "listExample\n"
   ]
  },
  {
   "cell_type": "code",
   "execution_count": 30,
   "metadata": {
    "id": "CVfdoYLQZvZa",
    "outputId": "e575bca4-55d5-47b6-f5e3-7eb0f25e586a"
   },
   "outputs": [
    {
     "data": {
      "text/plain": [
       "1"
      ]
     },
     "execution_count": 30,
     "metadata": {},
     "output_type": "execute_result"
    }
   ],
   "source": [
    "listExample.index(\"banana\")"
   ]
  },
  {
   "cell_type": "code",
   "execution_count": 31,
   "metadata": {
    "id": "wzdjP6O2ZvZa",
    "outputId": "2e644b80-4b25-4f65-e800-dd7804084611"
   },
   "outputs": [
    {
     "data": {
      "text/plain": [
       "'cherry'"
      ]
     },
     "execution_count": 31,
     "metadata": {},
     "output_type": "execute_result"
    }
   ],
   "source": [
    "listExample[2]"
   ]
  },
  {
   "cell_type": "code",
   "execution_count": 32,
   "metadata": {
    "id": "ruxdXVeuZvZa",
    "outputId": "116044c9-55dc-4ecd-8dc6-929e5c867204"
   },
   "outputs": [
    {
     "data": {
      "text/plain": [
       "['banana', 'cherry', 2]"
      ]
     },
     "execution_count": 32,
     "metadata": {},
     "output_type": "execute_result"
    }
   ],
   "source": [
    "listExample[1:]"
   ]
  },
  {
   "cell_type": "code",
   "execution_count": 33,
   "metadata": {
    "id": "fBnWSVg0ZvZa",
    "outputId": "60827b96-c824-4d66-c037-76f74c9b7fe5"
   },
   "outputs": [
    {
     "data": {
      "text/plain": [
       "2"
      ]
     },
     "execution_count": 33,
     "metadata": {},
     "output_type": "execute_result"
    }
   ],
   "source": [
    "listExample[-1]"
   ]
  },
  {
   "cell_type": "code",
   "execution_count": 34,
   "metadata": {
    "id": "V0ofU3TVZvZa",
    "outputId": "d4e8e214-d5a4-4084-8eba-0a138db5528b"
   },
   "outputs": [
    {
     "data": {
      "text/plain": [
       "['banana', 'cherry']"
      ]
     },
     "execution_count": 34,
     "metadata": {},
     "output_type": "execute_result"
    }
   ],
   "source": [
    "listExample[1:3]"
   ]
  },
  {
   "cell_type": "code",
   "execution_count": 35,
   "metadata": {
    "id": "uTKnxoLbZvZa",
    "outputId": "646ba668-49dd-4c65-a3d0-c2a9c476fd26"
   },
   "outputs": [
    {
     "data": {
      "text/plain": [
       "['apple', 'banana', 'cherry']"
      ]
     },
     "execution_count": 35,
     "metadata": {},
     "output_type": "execute_result"
    }
   ],
   "source": [
    "listExample[:3]"
   ]
  },
  {
   "cell_type": "code",
   "execution_count": 36,
   "metadata": {
    "colab": {
     "base_uri": "https://localhost:8080/",
     "height": 35
    },
    "id": "lMTnR9tlEC5E",
    "outputId": "fd66e0ef-dfb5-4444-fe2c-b9a18a607649"
   },
   "outputs": [
    {
     "data": {
      "text/plain": [
       "'banana'"
      ]
     },
     "execution_count": 36,
     "metadata": {},
     "output_type": "execute_result"
    }
   ],
   "source": [
    "listExample[1]"
   ]
  },
  {
   "cell_type": "code",
   "execution_count": 37,
   "metadata": {
    "id": "8SBXtOotZvZa",
    "outputId": "7d43f49b-7936-4455-b384-3dc2a213fc1f"
   },
   "outputs": [
    {
     "name": "stdout",
     "output_type": "stream",
     "text": [
      "['apple', 'Mango', 'cherry', 2]\n"
     ]
    }
   ],
   "source": [
    "#list is mutable eg: banana is replaced with Mango\n",
    "listExample[1]='Mango'\n",
    "print(listExample)"
   ]
  },
  {
   "cell_type": "code",
   "execution_count": 38,
   "metadata": {
    "colab": {
     "base_uri": "https://localhost:8080/"
    },
    "id": "bnl5xn-7ZvZb",
    "outputId": "ed827074-c8d6-4e6b-f587-fcbffe1be831"
   },
   "outputs": [
    {
     "name": "stdout",
     "output_type": "stream",
     "text": [
      "apple\n",
      "Mango\n",
      "cherry\n",
      "2\n"
     ]
    }
   ],
   "source": [
    "# loop through list\n",
    "for x in listExample:\n",
    "  print(x)"
   ]
  },
  {
   "cell_type": "code",
   "execution_count": 39,
   "metadata": {
    "id": "hXMmvYG1ZvZb",
    "outputId": "f414a9ab-dfef-4d66-9f07-6638d53df0da"
   },
   "outputs": [
    {
     "name": "stdout",
     "output_type": "stream",
     "text": [
      "Yes, 'apple' is present in list\n"
     ]
    }
   ],
   "source": [
    "# check if item is in list\n",
    "if \"apple\" in listExample:\n",
    "  print(\"Yes, 'apple' is present in list\")"
   ]
  },
  {
   "cell_type": "code",
   "execution_count": 40,
   "metadata": {
    "id": "Cu3LzWNCZvZb",
    "outputId": "2275331f-9181-42ff-b44b-7942ca249595"
   },
   "outputs": [
    {
     "data": {
      "text/plain": [
       "4"
      ]
     },
     "execution_count": 40,
     "metadata": {},
     "output_type": "execute_result"
    }
   ],
   "source": [
    "len(listExample)"
   ]
  },
  {
   "cell_type": "code",
   "execution_count": 41,
   "metadata": {
    "colab": {
     "base_uri": "https://localhost:8080/"
    },
    "id": "lT_ewa1cZvZb",
    "outputId": "7179ead4-b040-43bc-ae48-4250a5436ecd"
   },
   "outputs": [
    {
     "name": "stdout",
     "output_type": "stream",
     "text": [
      "['apple', 'Mango', 'cherry']\n"
     ]
    }
   ],
   "source": [
    "listExample.pop()\n",
    "print(listExample)"
   ]
  },
  {
   "cell_type": "code",
   "execution_count": 42,
   "metadata": {
    "colab": {
     "base_uri": "https://localhost:8080/"
    },
    "id": "eW7BM688ZvZb",
    "outputId": "d1498d67-9485-4729-acb5-b9b11ed2706e"
   },
   "outputs": [
    {
     "name": "stdout",
     "output_type": "stream",
     "text": [
      "['apple', 'Mango']\n"
     ]
    }
   ],
   "source": [
    "listExample.pop(2)    # The value at index is popped out and removed\n",
    "print(listExample)"
   ]
  },
  {
   "cell_type": "markdown",
   "metadata": {
    "id": "0BCbrpZ4ZvZb"
   },
   "source": [
    "### Tuple: Ordered, Immutable and allow duplicates"
   ]
  },
  {
   "cell_type": "code",
   "execution_count": 43,
   "metadata": {
    "colab": {
     "base_uri": "https://localhost:8080/"
    },
    "id": "1HdC6MSOZvZb",
    "outputId": "0616c505-9d00-4add-d3ab-37876cd528e5"
   },
   "outputs": [
    {
     "name": "stdout",
     "output_type": "stream",
     "text": [
      "('a', 'b', 1, 2)\n"
     ]
    }
   ],
   "source": [
    "t = ('a','b',1,2)\n",
    "print(t)"
   ]
  },
  {
   "cell_type": "code",
   "execution_count": 44,
   "metadata": {
    "colab": {
     "base_uri": "https://localhost:8080/"
    },
    "id": "qpwjDCofZvZc",
    "outputId": "90782249-f9e1-4f66-a180-f7289e8eb5c7"
   },
   "outputs": [
    {
     "name": "stdout",
     "output_type": "stream",
     "text": [
      "(1, 2, 'a', 'c')\n"
     ]
    }
   ],
   "source": [
    "tup = 1,2,'a','c'\n",
    "print(tup)"
   ]
  },
  {
   "cell_type": "code",
   "execution_count": 46,
   "metadata": {
    "colab": {
     "base_uri": "https://localhost:8080/",
     "height": 198
    },
    "id": "rqBcgOPoZvZc",
    "outputId": "8075d29d-a1f8-4e82-e604-705cd33c3cf6"
   },
   "outputs": [
    {
     "ename": "TypeError",
     "evalue": "'tuple' object does not support item assignment",
     "output_type": "error",
     "traceback": [
      "\u001b[1;31m---------------------------------------------------------------------------\u001b[0m",
      "\u001b[1;31mTypeError\u001b[0m                                 Traceback (most recent call last)",
      "Cell \u001b[1;32mIn [46], line 2\u001b[0m\n\u001b[0;32m      1\u001b[0m \u001b[38;5;66;03m#tuple is immutable\u001b[39;00m\n\u001b[1;32m----> 2\u001b[0m \u001b[43mt\u001b[49m\u001b[43m[\u001b[49m\u001b[38;5;241;43m2\u001b[39;49m\u001b[43m]\u001b[49m\u001b[38;5;241m=\u001b[39m\u001b[38;5;124m'\u001b[39m\u001b[38;5;124mc\u001b[39m\u001b[38;5;124m'\u001b[39m\n",
      "\u001b[1;31mTypeError\u001b[0m: 'tuple' object does not support item assignment"
     ]
    }
   ],
   "source": [
    "#tuple is immutable\n",
    "t[2]='c'"
   ]
  },
  {
   "cell_type": "markdown",
   "metadata": {
    "id": "aAsNCpZnZvZc"
   },
   "source": [
    "### Range"
   ]
  },
  {
   "cell_type": "code",
   "execution_count": 47,
   "metadata": {
    "id": "UgLMS8G6ZvZc",
    "outputId": "6f3ad323-0e6d-4137-9972-28b1d4460047"
   },
   "outputs": [
    {
     "name": "stdout",
     "output_type": "stream",
     "text": [
      "2\n",
      "3\n",
      "4\n",
      "5\n",
      "6\n",
      "7\n"
     ]
    }
   ],
   "source": [
    "# create sequence of numbers from 2 to 7\n",
    "x = range(2, 8)\n",
    "for n in x:\n",
    "  print(n)"
   ]
  },
  {
   "cell_type": "code",
   "execution_count": 48,
   "metadata": {
    "id": "S8gqLby4ZvZc"
   },
   "outputs": [
    {
     "name": "stdout",
     "output_type": "stream",
     "text": [
      "2\n",
      "4\n",
      "6\n",
      "8\n"
     ]
    }
   ],
   "source": [
    "# range(start, stop, step)\n",
    "# create sequence of numbers from 2 to 9 but increment by 2 instead of 1\n",
    "\n",
    "x= range(2,10,2)\n",
    "for n in x:\n",
    "  print(n)"
   ]
  },
  {
   "cell_type": "markdown",
   "metadata": {
    "id": "P_Ed2rRpZvZc"
   },
   "source": [
    "### dictionary: unordered, changeable, indexed and key-value pair is used"
   ]
  },
  {
   "cell_type": "code",
   "execution_count": 49,
   "metadata": {
    "id": "EXw7oHuGZvZd",
    "outputId": "3c30b332-6e33-4dd6-95fd-599777d0ce9e"
   },
   "outputs": [
    {
     "name": "stdout",
     "output_type": "stream",
     "text": [
      "{10: 'madhav', 11: 'ajay', 12: 'praveen'}\n"
     ]
    }
   ],
   "source": [
    "d={10:'madhav', 11:'ajay', 12:'praveen'}\n",
    "print(d)"
   ]
  },
  {
   "cell_type": "code",
   "execution_count": 50,
   "metadata": {
    "id": "_ZuEhG1aZvZd",
    "outputId": "adf41988-16d3-447a-8869-8b722f6e0cb2"
   },
   "outputs": [
    {
     "name": "stdout",
     "output_type": "stream",
     "text": [
      "dict_keys([10, 11, 12])\n"
     ]
    }
   ],
   "source": [
    "print(d.keys())"
   ]
  },
  {
   "cell_type": "code",
   "execution_count": 51,
   "metadata": {
    "id": "lPmd1pNRZvZd",
    "outputId": "7cd45922-2fb2-4512-df2c-a3ceddb8e2cc"
   },
   "outputs": [
    {
     "name": "stdout",
     "output_type": "stream",
     "text": [
      "dict_values(['madhav', 'ajay', 'praveen'])\n"
     ]
    }
   ],
   "source": [
    "print(d.values())"
   ]
  },
  {
   "cell_type": "markdown",
   "metadata": {
    "id": "TeDflVGFZvZd"
   },
   "source": [
    "# Control Structures\n",
    "\n",
    "## If ... else"
   ]
  },
  {
   "cell_type": "code",
   "execution_count": 52,
   "metadata": {
    "id": "1bw9arqKZvZd",
    "outputId": "4b54428e-82f9-499e-a648-b7404e0d9a61"
   },
   "outputs": [
    {
     "name": "stdout",
     "output_type": "stream",
     "text": [
      "a is greater than b\n"
     ]
    }
   ],
   "source": [
    "a = 101\n",
    "b = 100\n",
    "if b > a:\n",
    "    print(\"b is greater than a\")\n",
    "\n",
    "else:          \n",
    "    print(\"a is greater than b\")"
   ]
  },
  {
   "cell_type": "code",
   "execution_count": 53,
   "metadata": {},
   "outputs": [
    {
     "name": "stdout",
     "output_type": "stream",
     "text": [
      "a is greater than b\n"
     ]
    }
   ],
   "source": [
    "a = 101\n",
    "b = 100\n",
    "if b > a:\n",
    "    print(\"b is greater than a\")\n",
    "\n",
    "elif (a > b):   # elif means if the previous conditions were not true, then try this condition.\n",
    "    print(\"a is greater than b\")\n",
    "\n",
    "\n",
    "else:           # keyword catches anything which isn't caught by the preceding conditions\n",
    "    print(\"a is equal to b\")"
   ]
  },
  {
   "cell_type": "markdown",
   "metadata": {
    "id": "OoB12nAkZvZd"
   },
   "source": [
    "## Loops: for, while"
   ]
  },
  {
   "cell_type": "code",
   "execution_count": 54,
   "metadata": {
    "id": "OpfIJ28JZvZd",
    "outputId": "a5ea3957-dbb7-4073-f575-511e4433075b"
   },
   "outputs": [
    {
     "name": "stdout",
     "output_type": "stream",
     "text": [
      "x\n",
      "y\n",
      "1\n",
      "2\n",
      "3\n"
     ]
    }
   ],
   "source": [
    "# for loop\n",
    "mylist=['x','y',1,2,3]\n",
    "for i in mylist:\n",
    "    print(i)"
   ]
  },
  {
   "cell_type": "code",
   "execution_count": 55,
   "metadata": {
    "id": "A0TJJvTqZvZe",
    "outputId": "a2fe26e5-cac1-42db-d7e7-41600ef97a6f"
   },
   "outputs": [
    {
     "name": "stdout",
     "output_type": "stream",
     "text": [
      "1\n",
      "2\n",
      "3\n",
      "4\n"
     ]
    }
   ],
   "source": [
    "# while loop\n",
    "i = 1\n",
    "while i < 5:\n",
    "    print(i)\n",
    "    i=i+1\n"
   ]
  },
  {
   "cell_type": "markdown",
   "metadata": {
    "id": "XP9Gqx0rZvZe"
   },
   "source": [
    "# Functions in Python"
   ]
  },
  {
   "cell_type": "code",
   "execution_count": 56,
   "metadata": {
    "id": "DtG4YlCuZvZe"
   },
   "outputs": [],
   "source": [
    "#Defining a function\n",
    "def printme(str):\n",
    "\n",
    "    print (str)\n",
    "\n",
    "    return"
   ]
  },
  {
   "cell_type": "code",
   "execution_count": 57,
   "metadata": {
    "id": "fF74VxemZvZe",
    "outputId": "2bae8797-1ca3-468d-c47b-6efa010ff8eb"
   },
   "outputs": [
    {
     "name": "stdout",
     "output_type": "stream",
     "text": [
      "This is first call to the user defined function!\n"
     ]
    }
   ],
   "source": [
    "#Calling function\n",
    "printme(\"This is first call to the user defined function!\")"
   ]
  },
  {
   "cell_type": "code",
   "execution_count": 58,
   "metadata": {
    "id": "JRJtOUPGZvZe"
   },
   "outputs": [],
   "source": [
    "def sum(a,b):\n",
    "    c= a+b\n",
    "    return c\n"
   ]
  },
  {
   "cell_type": "code",
   "execution_count": 59,
   "metadata": {
    "id": "y21bMdIoZvZe",
    "outputId": "e2b860e8-cd9c-4240-b605-5a762a9b914b"
   },
   "outputs": [
    {
     "data": {
      "text/plain": [
       "4"
      ]
     },
     "execution_count": 59,
     "metadata": {},
     "output_type": "execute_result"
    }
   ],
   "source": [
    "sum(2,2)"
   ]
  },
  {
   "cell_type": "code",
   "execution_count": 60,
   "metadata": {},
   "outputs": [],
   "source": [
    "def sum1(a,b):\n",
    "    c= a+b\n",
    "    print(c)"
   ]
  },
  {
   "cell_type": "code",
   "execution_count": 61,
   "metadata": {},
   "outputs": [
    {
     "name": "stdout",
     "output_type": "stream",
     "text": [
      "6\n"
     ]
    }
   ],
   "source": [
    "sum1(4,2)"
   ]
  },
  {
   "cell_type": "code",
   "execution_count": 62,
   "metadata": {},
   "outputs": [
    {
     "data": {
      "text/plain": [
       "36"
      ]
     },
     "execution_count": 62,
     "metadata": {},
     "output_type": "execute_result"
    }
   ],
   "source": [
    "y = lambda a,b: a**2 + b**2 + 2*a*b\n",
    "y(2,4)\n"
   ]
  },
  {
   "cell_type": "markdown",
   "metadata": {
    "id": "abRP49PLZvZf"
   },
   "source": [
    "## Introduction to Numpy"
   ]
  },
  {
   "cell_type": "markdown",
   "metadata": {
    "id": "4okfJt2UZvZf"
   },
   "source": [
    "* It stands for Numerical Python\n",
    "* It is a fundamental package for numerical computations\n",
    "* It supports N-dimensional array objects that can be used for processing multidimensional data"
   ]
  },
  {
   "cell_type": "code",
   "execution_count": 63,
   "metadata": {
    "colab": {
     "base_uri": "https://localhost:8080/"
    },
    "id": "t_IXuncNZvZf",
    "outputId": "f762fb37-f7b8-4f45-bb41-e1ef564173a5"
   },
   "outputs": [
    {
     "name": "stdout",
     "output_type": "stream",
     "text": [
      "[1 2 3 4 5 6]\n"
     ]
    }
   ],
   "source": [
    "import numpy\n",
    "arr = numpy.array([1, 2, 3, 4, 5, 6])\n",
    "print(arr)"
   ]
  },
  {
   "cell_type": "code",
   "execution_count": 64,
   "metadata": {
    "colab": {
     "base_uri": "https://localhost:8080/"
    },
    "id": "Enm-YimAZvZf",
    "outputId": "29cb8d09-20c9-4161-d958-9b95f891fb4a"
   },
   "outputs": [
    {
     "name": "stdout",
     "output_type": "stream",
     "text": [
      "[1 2 3 4 5 6]\n"
     ]
    }
   ],
   "source": [
    "import numpy as np\n",
    "arr1 = np.array([1, 2, 3, 4, 5, 6])\n",
    "print(arr1)"
   ]
  },
  {
   "cell_type": "code",
   "execution_count": 65,
   "metadata": {
    "colab": {
     "base_uri": "https://localhost:8080/"
    },
    "id": "YcI5ltY8ZvZf",
    "outputId": "b4f79705-53fe-4906-840e-6245eae9de29"
   },
   "outputs": [
    {
     "name": "stdout",
     "output_type": "stream",
     "text": [
      "0\n",
      "1\n",
      "2\n",
      "3\n"
     ]
    }
   ],
   "source": [
    "# ndim returns an integer which tell the number of dimensions that array have.\n",
    "\n",
    "import numpy as np\n",
    "\n",
    "p = np.array(50)\n",
    "print(p.ndim)\n",
    "\n",
    "q = np.array([1, 2, 3, 4, 5])\n",
    "print(q.ndim)\n",
    "\n",
    "r = np.array([[1, 2, 3], [4, 5, 6]])\n",
    "print(r.ndim)\n",
    "\n",
    "s = np.array([[[1, 2, 3], [4, 5, 6]], [[1, 2, 3], [4, 5, 6]]])\n",
    "print(s.ndim)"
   ]
  },
  {
   "cell_type": "code",
   "execution_count": 66,
   "metadata": {
    "colab": {
     "base_uri": "https://localhost:8080/"
    },
    "id": "JzonHyIjZvZg",
    "outputId": "a22e0363-22b0-40ed-a641-680333453003"
   },
   "outputs": [
    {
     "name": "stdout",
     "output_type": "stream",
     "text": [
      "1\n"
     ]
    }
   ],
   "source": [
    "arr1 = np.array([1, 2, 3, 4, 5, 6])\n",
    "\n",
    "print(arr1[0])"
   ]
  },
  {
   "cell_type": "code",
   "execution_count": 67,
   "metadata": {
    "id": "CKYPXiLUZvZg",
    "outputId": "20b3cd8d-f45d-48a5-b98c-a3437b45aa04"
   },
   "outputs": [
    {
     "data": {
      "text/plain": [
       "2"
      ]
     },
     "execution_count": 67,
     "metadata": {},
     "output_type": "execute_result"
    }
   ],
   "source": [
    "arr2 = np.array([[1,2,3,4,5], [6,7,8,9,10]])\n",
    "\n",
    "arr2[0, 1]"
   ]
  },
  {
   "cell_type": "code",
   "execution_count": 68,
   "metadata": {
    "id": "ntNeno2QZvZg",
    "outputId": "a424f0e4-88f7-4272-f39b-84d8955174d7"
   },
   "outputs": [
    {
     "name": "stdout",
     "output_type": "stream",
     "text": [
      "[1 2 3 4]\n",
      "<class 'numpy.ndarray'>\n"
     ]
    }
   ],
   "source": [
    "list1= [1,2,3,4]\n",
    "arrl=np.array(list1)\n",
    "print(arrl)\n",
    "print(type(arr1))"
   ]
  },
  {
   "cell_type": "code",
   "execution_count": 69,
   "metadata": {
    "colab": {
     "base_uri": "https://localhost:8080/"
    },
    "id": "kFHUs8uvZvZg",
    "outputId": "dc665cff-b8e8-4261-fe9f-9717d7cdecef"
   },
   "outputs": [
    {
     "name": "stdout",
     "output_type": "stream",
     "text": [
      "(array([[71, 36, 87, 50, 86],\n",
      "       [19, 73, 20, 97, 12],\n",
      "       [67, 33,  6, 43, 24],\n",
      "       [17, 90, 10, 17, 49],\n",
      "       [22, 55, 12, 75, 78]]),)\n"
     ]
    }
   ],
   "source": [
    "import numpy as np\n",
    "x = np.random.randint(100, size=[5,5]),\n",
    "print(x)"
   ]
  },
  {
   "cell_type": "code",
   "execution_count": null,
   "metadata": {},
   "outputs": [],
   "source": []
  }
 ],
 "metadata": {
  "colab": {
   "provenance": []
  },
  "kernelspec": {
   "display_name": "Python 3 (ipykernel)",
   "language": "python",
   "name": "python3"
  },
  "language_info": {
   "codemirror_mode": {
    "name": "ipython",
    "version": 3
   },
   "file_extension": ".py",
   "mimetype": "text/x-python",
   "name": "python",
   "nbconvert_exporter": "python",
   "pygments_lexer": "ipython3",
   "version": "3.11.4"
  },
  "vscode": {
   "interpreter": {
    "hash": "f1efc3b04112d3fb2c381b28e1e9a23d115188a9bf7d04fadf9c22196694e239"
   }
  }
 },
 "nbformat": 4,
 "nbformat_minor": 1
}
